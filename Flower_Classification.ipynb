{
 "cells": [
  {
   "cell_type": "code",
   "execution_count": 2,
   "metadata": {},
   "outputs": [
    {
     "data": {
      "text/plain": [
       "'2.1.0'"
      ]
     },
     "execution_count": 2,
     "metadata": {},
     "output_type": "execute_result"
    }
   ],
   "source": [
    "import tensorflow\n",
    "tensorflow.__version__"
   ]
  },
  {
   "cell_type": "code",
   "execution_count": 3,
   "metadata": {},
   "outputs": [],
   "source": [
    "import random\n",
    "random.seed(0)\n",
    "\n",
    "import warnings\n",
    "warnings.filterwarnings(\"ignore\")"
   ]
  },
  {
   "cell_type": "code",
   "execution_count": 12,
   "metadata": {},
   "outputs": [
    {
     "name": "stdout",
     "output_type": "stream",
     "text": [
      "ERROR! Session/line number was not unique in database. History logging moved to new session 1241\n"
     ]
    }
   ],
   "source": [
    "from tensorflow.keras.datasets import mnist\n",
    "\n",
    "(X_train, y_train), (X_test, y_test) = mnist.load_data()"
   ]
  },
  {
   "cell_type": "code",
   "execution_count": 13,
   "metadata": {},
   "outputs": [
    {
     "name": "stdout",
     "output_type": "stream",
     "text": [
      "Label: 6\n"
     ]
    },
    {
     "data": {
      "text/plain": [
       "<matplotlib.image.AxesImage at 0x1abc603e748>"
      ]
     },
     "execution_count": 13,
     "metadata": {},
     "output_type": "execute_result"
    },
    {
     "data": {
      "image/png": "[encoded data removed]",
      "text/plain": [
       "<Figure size 432x288 with 1 Axes>"
      ]
     },
     "metadata": {
      "needs_background": "light"
     },
     "output_type": "display_data"
    }
   ],
   "source": [
    "import matplotlib.pyplot as plt\n",
    "%matplotlib inline\n",
    "print(\"Label: {}\".format(y_train[9000]))\n",
    "plt.imshow(X_train[9000], cmap='gray')"
   ]
  },
  {
   "cell_type": "code",
   "execution_count": 14,
   "metadata": {},
   "outputs": [
    {
     "name": "stdout",
     "output_type": "stream",
     "text": [
      "(60000, 28, 28)\n",
      "(60000,)\n",
      "(10000, 28, 28)\n",
      "(10000,)\n"
     ]
    }
   ],
   "source": [
    "print(X_train.shape)\n",
    "print(y_train.shape)\n",
    "print(X_test.shape)\n",
    "print(y_test.shape)"
   ]
  },
  {
   "cell_type": "code",
   "execution_count": 15,
   "metadata": {},
   "outputs": [],
   "source": [
    "X_train = X_train.reshape(X_train.shape[0], 28, 28, 1)\n",
    "X_test = X_test.reshape(X_test.shape[0], 28, 28, 1)"
   ]
  },
  {
   "cell_type": "code",
   "execution_count": 16,
   "metadata": {},
   "outputs": [],
   "source": [
    "X_train = X_train.astype('float32')\n",
    "X_test = X_test.astype('float32')\n",
    "\n",
    "X_train /= 255\n",
    "X_test /= 255"
   ]
  },
  {
   "cell_type": "code",
   "execution_count": 17,
   "metadata": {},
   "outputs": [
    {
     "name": "stdout",
     "output_type": "stream",
     "text": [
      "3\n",
      "[0. 0. 0. 1. 0. 0. 0. 0. 0. 0.]\n"
     ]
    }
   ],
   "source": [
    "print(y_train[10])\n",
    "y_train = tensorflow.keras.utils.to_categorical(y_train, num_classes=10)\n",
    "y_test = tensorflow.keras.utils.to_categorical(y_test, num_classes=10)\n",
    "print(y_train[10])"
   ]
  },
  {
   "cell_type": "code",
   "execution_count": 18,
   "metadata": {},
   "outputs": [
    {
     "name": "stdout",
     "output_type": "stream",
     "text": [
      "label for each of the below image: 5\n",
      "label for each of the below image: 0\n",
      "label for each of the below image: 4\n",
      "label for each of the below image: 1\n",
      "label for each of the below image: 9\n",
      "label for each of the below image: 2\n",
      "label for each of the below image: 1\n",
      "label for each of the below image: 3\n",
      "label for each of the below image: 1\n",
      "label for each of the below image: 4\n"
     ]
    },
    {
     "data": {
      "image/png": "[encoded data removed]",
      "text/plain": [
       "<Figure size 720x72 with 10 Axes>"
      ]
     },
     "metadata": {
      "needs_background": "light"
     },
     "output_type": "display_data"
    }
   ],
   "source": [
    "import numpy as np\n",
    "\n",
    "# visualizing the first 10 images in the dataset and their labels\n",
    "%matplotlib inline\n",
    "import matplotlib.pyplot as plt\n",
    "plt.figure(figsize=(10, 1))\n",
    "for i in range(10):\n",
    "    plt.subplot(1, 10, i+1)\n",
    "    plt.imshow(X_train[i].reshape(28, 28), cmap=\"gray\")\n",
    "    plt.axis('off')\n",
    "    print('label for each of the below image: %s' % (np.argmax(y_train[0:10][i])))\n",
    "plt.show()"
   ]
  },
  {
   "cell_type": "code",
   "execution_count": 19,
   "metadata": {},
   "outputs": [],
   "source": [
    "from tensorflow.keras.models import Sequential\n",
    "from tensorflow.keras.layers import Flatten, Dense\n",
    "\n",
    "model = Sequential()\n",
    "model.add(Flatten())\n",
    "model.add(Dense(128, activation=\"relu\"))\n",
    "model.add(Dense(10, activation=\"softmax\"))"
   ]
  },
  {
   "cell_type": "code",
   "execution_count": 20,
   "metadata": {},
   "outputs": [
    {
     "name": "stdout",
     "output_type": "stream",
     "text": [
      "Train on 60000 samples, validate on 10000 samples\n",
      "Epoch 1/2\n",
      "60000/60000 [==============================] - 10s 174us/sample - loss: 0.6623 - accuracy: 0.8310 - val_loss: 0.3577 - val_accuracy: 0.9004\n",
      "Epoch 2/2\n",
      "60000/60000 [==============================] - 9s 150us/sample - loss: 0.3352 - accuracy: 0.9071 - val_loss: 0.2903 - val_accuracy: 0.9193\n"
     ]
    },
    {
     "data": {
      "text/plain": [
       "<tensorflow.python.keras.callbacks.History at 0x1abb6cf62e8>"
      ]
     },
     "execution_count": 20,
     "metadata": {},
     "output_type": "execute_result"
    }
   ],
   "source": [
    "model.compile(loss=\"categorical_crossentropy\", metrics=[\"accuracy\"], optimizer=\"sgd\")\n",
    "\n",
    "model.fit(x=X_train, y=y_train, batch_size=32, epochs=2, validation_data=(X_test, y_test))"
   ]
  },
  {
   "cell_type": "code",
   "execution_count": 21,
   "metadata": {},
   "outputs": [
    {
     "name": "stdout",
     "output_type": "stream",
     "text": [
      "10000/10000 [==============================] - 1s 82us/sample - loss: 0.2903 - accuracy: 0.9193\n"
     ]
    },
    {
     "data": {
      "text/plain": [
       "[0.2903292257606983, 0.9193]"
      ]
     },
     "execution_count": 21,
     "metadata": {},
     "output_type": "execute_result"
    }
   ],
   "source": [
    "model.evaluate(X_test, y_test)"
   ]
  },
  {
   "cell_type": "markdown",
   "metadata": {},
   "source": [
    "### Hyperparameter Tuning"
   ]
  },
  {
   "cell_type": "code",
   "execution_count": 25,
   "metadata": {},
   "outputs": [],
   "source": [
    "(X_train, y_train), (X_test, y_test) = mnist.load_data()"
   ]
  },
  {
   "cell_type": "code",
   "execution_count": 26,
   "metadata": {},
   "outputs": [
    {
     "name": "stdout",
     "output_type": "stream",
     "text": [
      "(60000, 28, 28)\n",
      "(60000,)\n",
      "(10000, 28, 28)\n",
      "(10000,)\n"
     ]
    }
   ],
   "source": [
    "print(X_train.shape)\n",
    "print(y_train.shape)\n",
    "print(X_test.shape)\n",
    "print(y_test.shape)"
   ]
  },
  {
   "cell_type": "code",
   "execution_count": 27,
   "metadata": {},
   "outputs": [
    {
     "name": "stdout",
     "output_type": "stream",
     "text": [
      "(60000, 784)\n",
      "(10000, 784)\n"
     ]
    }
   ],
   "source": [
    "X_train = X_train.reshape(60000, 784)\n",
    "print(X_train.shape)\n",
    "X_test = X_test.reshape(10000, 784)\n",
    "print(X_test.shape)"
   ]
  },
  {
   "cell_type": "code",
   "execution_count": 28,
   "metadata": {},
   "outputs": [],
   "source": [
    "X_train = X_train / 255.0\n",
    "X_test = X_test / 255.0"
   ]
  },
  {
   "cell_type": "code",
   "execution_count": 29,
   "metadata": {},
   "outputs": [],
   "source": [
    "y_train = tensorflow.keras.utils.to_categorical(y_train, num_classes=10)\n",
    "y_test = tensorflow.keras.utils.to_categorical(y_test, num_classes=10)"
   ]
  },
  {
   "cell_type": "code",
   "execution_count": 30,
   "metadata": {},
   "outputs": [
    {
     "name": "stdout",
     "output_type": "stream",
     "text": [
      "label for each of the below image: 5\n",
      "label for each of the below image: 0\n",
      "label for each of the below image: 4\n",
      "label for each of the below image: 1\n",
      "label for each of the below image: 9\n",
      "label for each of the below image: 2\n",
      "label for each of the below image: 1\n",
      "label for each of the below image: 3\n",
      "label for each of the below image: 1\n",
      "label for each of the below image: 4\n"
     ]
    },
    {
     "data": {
      "image/png": "[encoded data removed]",
      "text/plain": [
       "<Figure size 720x72 with 10 Axes>"
      ]
     },
     "metadata": {
      "needs_background": "light"
     },
     "output_type": "display_data"
    }
   ],
   "source": [
    "import numpy as np\n",
    "\n",
    "# visualizing the first 10 images in the dataset and their labels\n",
    "%matplotlib inline\n",
    "import matplotlib.pyplot as plt\n",
    "plt.figure(figsize=(10, 1))\n",
    "for i in range(10):\n",
    "    plt.subplot(1, 10, i+1)\n",
    "    plt.imshow(X_train[i].reshape(28, 28), cmap=\"gray\")\n",
    "    plt.axis('off')\n",
    "    print('label for each of the below image: %s' % (np.argmax(y_train[0:10][i])))\n",
    "plt.show()"
   ]
  },
  {
   "cell_type": "code",
   "execution_count": 31,
   "metadata": {},
   "outputs": [],
   "source": [
    "from tensorflow.keras.models import Sequential\n",
    "from tensorflow.keras.layers import Dense\n",
    "from tensorflow.keras import regularizers, optimizers\n",
    "\n",
    "def train_and_test_loop(iterations, lr, Lambda, verb=True):\n",
    "\n",
    "    iterations = iterations\n",
    "    learning_rate = lr\n",
    "    hidden_nodes = 256\n",
    "    output_nodes = 10\n",
    "        \n",
    "    model = Sequential()\n",
    "    model.add(Dense(hidden_nodes, input_shape=(784,), activation='relu'))\n",
    "    model.add(Dense(hidden_nodes, activation='relu'))\n",
    "    model.add(Dense(output_nodes, activation='softmax', kernel_regularizer=regularizers.l2(Lambda)))\n",
    "    \n",
    "    sgd = optimizers.SGD(lr=learning_rate, decay=1e-6, momentum=0.9)\n",
    "\n",
    "    model.compile(loss='categorical_crossentropy', optimizer=sgd, metrics=['accuracy'])    \n",
    "\n",
    "    model.fit(X_train, y_train, epochs=iterations, batch_size=1000, verbose= 1)"
   ]
  },
  {
   "cell_type": "code",
   "execution_count": 32,
   "metadata": {},
   "outputs": [],
   "source": [
    "def train_and_test_loop1(iterations, lr, Lambda, verb=True):\n",
    "\n",
    "    iterations = iterations\n",
    "    learning_rate = lr\n",
    "    hidden_nodes = 256\n",
    "    output_nodes = 10\n",
    "\n",
    "    model = Sequential()\n",
    "    model.add(Dense(hidden_nodes, input_shape=(784,), activation='relu'))\n",
    "    model.add(Dense(hidden_nodes, activation='relu'))\n",
    "    model.add(Dense(output_nodes, activation='softmax', kernel_regularizer=regularizers.l2(Lambda)))\n",
    "    \n",
    "    sgd = optimizers.SGD(lr=learning_rate, decay=1e-6, momentum=0.9)\n",
    "\n",
    "    model.compile(loss='categorical_crossentropy', optimizer=sgd, metrics=['accuracy'])\n",
    "\n",
    "    model.fit(X_train, y_train, epochs=iterations, batch_size=1000, verbose= 1)\n",
    "    score = model.evaluate(X_train, y_train, verbose=0)\n",
    "    \n",
    "    return score"
   ]
  },
  {
   "cell_type": "code",
   "execution_count": 33,
   "metadata": {},
   "outputs": [
    {
     "name": "stdout",
     "output_type": "stream",
     "text": [
      "Train on 60000 samples\n",
      "60000/60000 [==============================] - 3s 48us/sample - loss: 2.2981 - accuracy: 0.1147\n"
     ]
    }
   ],
   "source": [
    "lr = 0.00001\n",
    "Lambda = 0\n",
    "train_and_test_loop(1, lr, Lambda)"
   ]
  },
  {
   "cell_type": "code",
   "execution_count": 34,
   "metadata": {},
   "outputs": [
    {
     "name": "stdout",
     "output_type": "stream",
     "text": [
      "Train on 60000 samples\n",
      "60000/60000 [==============================] - 3s 43us/sample - loss: 2379.8086 - accuracy: 0.0787\n"
     ]
    }
   ],
   "source": [
    "lr = 0.00001\n",
    "Lambda = 1e3\n",
    "train_and_test_loop(1, lr, Lambda)"
   ]
  },
  {
   "cell_type": "code",
   "execution_count": 35,
   "metadata": {},
   "outputs": [],
   "source": [
    "X_train_subset = X_train[0:20]"
   ]
  },
  {
   "cell_type": "code",
   "execution_count": 36,
   "metadata": {},
   "outputs": [],
   "source": [
    "y_train_subset = y_train[0:20]"
   ]
  },
  {
   "cell_type": "code",
   "execution_count": 37,
   "metadata": {},
   "outputs": [],
   "source": [
    "X_train = X_train_subset\n",
    "y_train = y_train_subset"
   ]
  },
  {
   "cell_type": "code",
   "execution_count": 38,
   "metadata": {},
   "outputs": [
    {
     "data": {
      "text/plain": [
       "(20, 784)"
      ]
     },
     "execution_count": 38,
     "metadata": {},
     "output_type": "execute_result"
    }
   ],
   "source": [
    "X_train.shape"
   ]
  },
  {
   "cell_type": "code",
   "execution_count": 39,
   "metadata": {},
   "outputs": [
    {
     "data": {
      "text/plain": [
       "(20, 10)"
      ]
     },
     "execution_count": 39,
     "metadata": {},
     "output_type": "execute_result"
    }
   ],
   "source": [
    "y_train.shape"
   ]
  },
  {
   "cell_type": "code",
   "execution_count": 40,
   "metadata": {},
   "outputs": [
    {
     "name": "stdout",
     "output_type": "stream",
     "text": [
      "Train on 20 samples\n",
      "Epoch 1/20\n",
      "20/20 [==============================] - 1s 28ms/sample - loss: 2.3081 - accuracy: 0.1000\n",
      "Epoch 2/20\n",
      "20/20 [==============================] - 0s 284us/sample - loss: 2.3054 - accuracy: 0.1000\n",
      "Epoch 3/20\n",
      "20/20 [==============================] - 0s 161us/sample - loss: 2.3003 - accuracy: 0.1000\n",
      "Epoch 4/20\n",
      "20/20 [==============================] - 0s 255us/sample - loss: 2.2931 - accuracy: 0.2000\n",
      "Epoch 5/20\n",
      "20/20 [==============================] - 0s 592us/sample - loss: 2.2839 - accuracy: 0.2000\n",
      "Epoch 6/20\n",
      "20/20 [==============================] - 0s 280us/sample - loss: 2.2731 - accuracy: 0.2000\n",
      "Epoch 7/20\n",
      "20/20 [==============================] - 0s 0s/sample - loss: 2.2608 - accuracy: 0.2500\n",
      "Epoch 8/20\n",
      "20/20 [==============================] - 0s 530us/sample - loss: 2.2473 - accuracy: 0.2500\n",
      "Epoch 9/20\n",
      "20/20 [==============================] - 0s 746us/sample - loss: 2.2327 - accuracy: 0.2500\n",
      "Epoch 10/20\n",
      "20/20 [==============================] - 0s 368us/sample - loss: 2.2171 - accuracy: 0.3000\n",
      "Epoch 11/20\n",
      "20/20 [==============================] - 0s 326us/sample - loss: 2.2007 - accuracy: 0.3500\n",
      "Epoch 12/20\n",
      "20/20 [==============================] - 0s 422us/sample - loss: 2.1836 - accuracy: 0.4000\n",
      "Epoch 13/20\n",
      "20/20 [==============================] - 0s 230us/sample - loss: 2.1660 - accuracy: 0.4000\n",
      "Epoch 14/20\n",
      "20/20 [==============================] - 0s 415us/sample - loss: 2.1480 - accuracy: 0.4000\n",
      "Epoch 15/20\n",
      "20/20 [==============================] - 0s 414us/sample - loss: 2.1299 - accuracy: 0.4000\n",
      "Epoch 16/20\n",
      "20/20 [==============================] - 0s 586us/sample - loss: 2.1115 - accuracy: 0.4000\n",
      "Epoch 17/20\n",
      "20/20 [==============================] - 0s 407us/sample - loss: 2.0928 - accuracy: 0.4000\n",
      "Epoch 18/20\n",
      "20/20 [==============================] - 0s 304us/sample - loss: 2.0740 - accuracy: 0.4000\n",
      "Epoch 19/20\n",
      "20/20 [==============================] - 0s 375us/sample - loss: 2.0550 - accuracy: 0.4000\n",
      "Epoch 20/20\n",
      "20/20 [==============================] - 0s 278us/sample - loss: 2.0361 - accuracy: 0.4000\n"
     ]
    }
   ],
   "source": [
    "lr = 0.001\n",
    "Lambda = 0\n",
    "train_and_test_loop(20, lr, Lambda)"
   ]
  },
  {
   "cell_type": "code",
   "execution_count": 41,
   "metadata": {},
   "outputs": [],
   "source": [
    "(X_train, y_train), (X_test, y_test) = mnist.load_data()"
   ]
  },
  {
   "cell_type": "code",
   "execution_count": 42,
   "metadata": {},
   "outputs": [
    {
     "name": "stdout",
     "output_type": "stream",
     "text": [
      "(60000, 28, 28)\n",
      "(60000,)\n",
      "(10000, 28, 28)\n",
      "(10000,)\n"
     ]
    }
   ],
   "source": [
    "print(X_train.shape)\n",
    "print(y_train.shape)\n",
    "print(X_test.shape)\n",
    "print(y_test.shape)"
   ]
  },
  {
   "cell_type": "code",
   "execution_count": 43,
   "metadata": {},
   "outputs": [
    {
     "name": "stdout",
     "output_type": "stream",
     "text": [
      "(60000, 784)\n",
      "(10000, 784)\n"
     ]
    }
   ],
   "source": [
    "X_train = X_train.reshape(60000, 784)\n",
    "print(X_train.shape)\n",
    "X_test = X_test.reshape(10000, 784)\n",
    "print(X_test.shape)"
   ]
  },
  {
   "cell_type": "code",
   "execution_count": 44,
   "metadata": {},
   "outputs": [],
   "source": [
    "X_train = X_train / 255.0\n",
    "X_test = X_test / 255.0"
   ]
  },
  {
   "cell_type": "code",
   "execution_count": 45,
   "metadata": {},
   "outputs": [],
   "source": [
    "y_train = tensorflow.keras.utils.to_categorical(y_train, num_classes=10)\n",
    "y_test = tensorflow.keras.utils.to_categorical(y_test, num_classes=10)"
   ]
  },
  {
   "cell_type": "code",
   "execution_count": 46,
   "metadata": {},
   "outputs": [
    {
     "name": "stdout",
     "output_type": "stream",
     "text": [
      "Train on 60000 samples\n",
      "Epoch 1/20\n",
      "60000/60000 [==============================] - 2s 29us/sample - loss: 2.3766 - accuracy: 0.0901\n",
      "Epoch 2/20\n",
      "60000/60000 [==============================] - 1s 23us/sample - loss: 2.3765 - accuracy: 0.0900\n",
      "Epoch 3/20\n",
      "60000/60000 [==============================] - 1s 25us/sample - loss: 2.3765 - accuracy: 0.0900s - loss: 2.3753 - \n",
      "Epoch 4/20\n",
      "60000/60000 [==============================] - 1s 24us/sample - loss: 2.3764 - accuracy: 0.0900\n",
      "Epoch 5/20\n",
      "60000/60000 [==============================] - 1s 25us/sample - loss: 2.3764 - accuracy: 0.0900\n",
      "Epoch 6/20\n",
      "60000/60000 [==============================] - 1s 25us/sample - loss: 2.3763 - accuracy: 0.0901\n",
      "Epoch 7/20\n",
      "60000/60000 [==============================] - 1s 24us/sample - loss: 2.3763 - accuracy: 0.0901s - loss: 2.3769 \n",
      "Epoch 8/20\n",
      "60000/60000 [==============================] - 2s 25us/sample - loss: 2.3762 - accuracy: 0.0901\n",
      "Epoch 9/20\n",
      "60000/60000 [==============================] - 1s 25us/sample - loss: 2.3761 - accuracy: 0.0901\n",
      "Epoch 10/20\n",
      "60000/60000 [==============================] - 1s 25us/sample - loss: 2.3761 - accuracy: 0.0901\n",
      "Epoch 11/20\n",
      "60000/60000 [==============================] - 2s 25us/sample - loss: 2.3760 - accuracy: 0.0901\n",
      "Epoch 12/20\n",
      "60000/60000 [==============================] - 1s 24us/sample - loss: 2.3760 - accuracy: 0.0900\n",
      "Epoch 13/20\n",
      "60000/60000 [==============================] - 1s 24us/sample - loss: 2.3759 - accuracy: 0.0900\n",
      "Epoch 14/20\n",
      "60000/60000 [==============================] - 1s 24us/sample - loss: 2.3759 - accuracy: 0.0900\n",
      "Epoch 15/20\n",
      "60000/60000 [==============================] - 2s 25us/sample - loss: 2.3758 - accuracy: 0.0900\n",
      "Epoch 16/20\n",
      "60000/60000 [==============================] - 1s 24us/sample - loss: 2.3758 - accuracy: 0.0900\n",
      "Epoch 17/20\n",
      "60000/60000 [==============================] - 1s 24us/sample - loss: 2.3757 - accuracy: 0.0900\n",
      "Epoch 18/20\n",
      "60000/60000 [==============================] - 1s 24us/sample - loss: 2.3757 - accuracy: 0.0900\n",
      "Epoch 19/20\n",
      "60000/60000 [==============================] - 2s 25us/sample - loss: 2.3756 - accuracy: 0.0900s - loss: 2.3756 - accuracy: 0.09\n",
      "Epoch 20/20\n",
      "60000/60000 [==============================] - 1s 24us/sample - loss: 2.3756 - accuracy: 0.0900\n"
     ]
    }
   ],
   "source": [
    "lr = 1e-7\n",
    "Lambda = 1e-7\n",
    "train_and_test_loop(20, lr, Lambda)"
   ]
  },
  {
   "cell_type": "code",
   "execution_count": 47,
   "metadata": {},
   "outputs": [
    {
     "name": "stdout",
     "output_type": "stream",
     "text": [
      "Train on 60000 samples\n",
      "Epoch 1/10\n",
      "60000/60000 [==============================] - 2s 29us/sample - loss: nan - accuracy: 0.0977\n",
      "Epoch 2/10\n",
      "60000/60000 [==============================] - 1s 23us/sample - loss: nan - accuracy: 0.0987\n",
      "Epoch 3/10\n",
      "60000/60000 [==============================] - 1s 24us/sample - loss: nan - accuracy: 0.0987\n",
      "Epoch 4/10\n",
      "60000/60000 [==============================] - 1s 23us/sample - loss: nan - accuracy: 0.0987\n",
      "Epoch 5/10\n",
      "60000/60000 [==============================] - 1s 22us/sample - loss: nan - accuracy: 0.0987\n",
      "Epoch 6/10\n",
      "60000/60000 [==============================] - 1s 23us/sample - loss: nan - accuracy: 0.0987\n",
      "Epoch 7/10\n",
      "60000/60000 [==============================] - 1s 21us/sample - loss: nan - accuracy: 0.0987\n",
      "Epoch 8/10\n",
      "60000/60000 [==============================] - 1s 22us/sample - loss: nan - accuracy: 0.0987\n",
      "Epoch 9/10\n",
      "60000/60000 [==============================] - 1s 22us/sample - loss: nan - accuracy: 0.0987\n",
      "Epoch 10/10\n",
      "60000/60000 [==============================] - 1s 20us/sample - loss: nan - accuracy: 0.09870s - loss: nan - accuracy: 0.0\n"
     ]
    }
   ],
   "source": [
    "lr = 1e8\n",
    "Lambda = 1e-7\n",
    "train_and_test_loop(10, lr, Lambda)"
   ]
  },
  {
   "cell_type": "code",
   "execution_count": 48,
   "metadata": {},
   "outputs": [
    {
     "name": "stdout",
     "output_type": "stream",
     "text": [
      "Train on 60000 samples\n",
      "Epoch 1/10\n",
      "60000/60000 [==============================] - 2s 33us/sample - loss: nan - accuracy: 0.0987\n",
      "Epoch 2/10\n",
      "60000/60000 [==============================] - 2s 25us/sample - loss: nan - accuracy: 0.0987\n",
      "Epoch 3/10\n",
      "60000/60000 [==============================] - 1s 22us/sample - loss: nan - accuracy: 0.0987\n",
      "Epoch 4/10\n",
      "60000/60000 [==============================] - 2s 26us/sample - loss: nan - accuracy: 0.0987\n",
      "Epoch 5/10\n",
      "60000/60000 [==============================] - 1s 24us/sample - loss: nan - accuracy: 0.0987\n",
      "Epoch 6/10\n",
      "60000/60000 [==============================] - 1s 24us/sample - loss: nan - accuracy: 0.0987\n",
      "Epoch 7/10\n",
      "60000/60000 [==============================] - 1s 24us/sample - loss: nan - accuracy: 0.0987\n",
      "Epoch 8/10\n",
      "60000/60000 [==============================] - 2s 26us/sample - loss: nan - accuracy: 0.09871s - loss: nan \n",
      "Epoch 9/10\n",
      "60000/60000 [==============================] - 2s 26us/sample - loss: nan - accuracy: 0.0987\n",
      "Epoch 10/10\n",
      "60000/60000 [==============================] - 1s 24us/sample - loss: nan - accuracy: 0.0987\n"
     ]
    }
   ],
   "source": [
    "lr = 1e4\n",
    "Lambda = 1e-7\n",
    "train_and_test_loop(10, lr, Lambda)"
   ]
  },
  {
   "cell_type": "code",
   "execution_count": 49,
   "metadata": {},
   "outputs": [
    {
     "name": "stdout",
     "output_type": "stream",
     "text": [
      "ERROR! Session/line number was not unique in database. History logging moved to new session 1243\n",
      "Train on 60000 samples\n",
      "Epoch 1/10\n",
      "60000/60000 [==============================] - 2s 31us/sample - loss: 1.5287 - accuracy: 0.6536s - loss: 2.076\n",
      "Epoch 2/10\n",
      "60000/60000 [==============================] - 2s 28us/sample - loss: 0.2860 - accuracy: 0.9179s - l\n",
      "Epoch 3/10\n",
      "60000/60000 [==============================] - 1s 25us/sample - loss: 0.2091 - accuracy: 0.9395s\n",
      "Epoch 4/10\n",
      "60000/60000 [==============================] - 1s 25us/sample - loss: 0.1695 - accuracy: 0.9498\n",
      "Epoch 5/10\n",
      "60000/60000 [==============================] - 1s 25us/sample - loss: 0.1444 - accuracy: 0.9578\n",
      "Epoch 6/10\n",
      "60000/60000 [==============================] - 2s 27us/sample - loss: 0.1233 - accuracy: 0.9647\n",
      "Epoch 7/10\n",
      "60000/60000 [==============================] - 1s 24us/sample - loss: 0.1153 - accuracy: 0.9651s - loss: 0.1\n",
      "Epoch 8/10\n",
      "60000/60000 [==============================] - 2s 26us/sample - loss: 0.1100 - accuracy: 0.9672s - loss: 0.1100 - \n",
      "Epoch 9/10\n",
      "60000/60000 [==============================] - 2s 26us/sample - loss: 0.1001 - accuracy: 0.9704s -\n",
      "Epoch 10/10\n",
      "60000/60000 [==============================] - 2s 25us/sample - loss: 0.0916 - accuracy: 0.9724\n",
      "Try 1/10: Best_val_acc: [0.07779362876514594, 0.9769167], lr: 0.4283466959894791, Lambda: 2.4200680998952862e-06\n",
      "\n",
      "Train on 60000 samples\n",
      "Epoch 1/10\n",
      "60000/60000 [==============================] - 2s 28us/sample - loss: 2.2480 - accuracy: 0.1490\n",
      "Epoch 2/10\n",
      "60000/60000 [==============================] - 1s 25us/sample - loss: 2.0750 - accuracy: 0.4269\n",
      "Epoch 3/10\n",
      "60000/60000 [==============================] - 1s 22us/sample - loss: 1.9120 - accuracy: 0.5924\n",
      "Epoch 4/10\n",
      "60000/60000 [==============================] - 1s 23us/sample - loss: 1.7420 - accuracy: 0.6594s - loss: 1.7560 - accuracy\n",
      "Epoch 5/10\n",
      "60000/60000 [==============================] - 1s 24us/sample - loss: 1.5662 - accuracy: 0.7023\n",
      "Epoch 6/10\n",
      "60000/60000 [==============================] - 1s 24us/sample - loss: 1.3953 - accuracy: 0.7360\n",
      "Epoch 7/10\n",
      "60000/60000 [==============================] - 1s 24us/sample - loss: 1.2404 - accuracy: 0.7631\n",
      "Epoch 8/10\n",
      "60000/60000 [==============================] - 1s 25us/sample - loss: 1.1081 - accuracy: 0.7828\n",
      "Epoch 9/10\n",
      "60000/60000 [==============================] - 1s 23us/sample - loss: 0.9988 - accuracy: 0.7984\n",
      "Epoch 10/10\n",
      "60000/60000 [==============================] - 1s 23us/sample - loss: 0.9100 - accuracy: 0.8105s\n",
      "Try 2/10: Best_val_acc: [0.8708015541871389, 0.81556666], lr: 0.00044412337108809416, Lambda: 3.712884119465471e-07\n",
      "\n",
      "Train on 60000 samples\n",
      "Epoch 1/10\n",
      "60000/60000 [==============================] - 2s 33us/sample - loss: 1.1572 - accuracy: 0.6951s - loss: 1\n",
      "Epoch 2/10\n",
      "60000/60000 [==============================] - 2s 25us/sample - loss: 0.3831 - accuracy: 0.8904s - loss: 0.4143 - ac - ETA: 0s - loss: 0.3960 - accu\n",
      "Epoch 3/10\n",
      "60000/60000 [==============================] - 1s 24us/sample - loss: 0.3140 - accuracy: 0.9101\n",
      "Epoch 4/10\n",
      "60000/60000 [==============================] - 2s 26us/sample - loss: 0.2791 - accuracy: 0.9199\n",
      "Epoch 5/10\n",
      "60000/60000 [==============================] - 1s 24us/sample - loss: 0.2536 - accuracy: 0.9279\n",
      "Epoch 6/10\n",
      "60000/60000 [==============================] - 1s 24us/sample - loss: 0.2340 - accuracy: 0.9334s - loss: 0.239\n",
      "Epoch 7/10\n",
      "60000/60000 [==============================] - 2s 25us/sample - loss: 0.2176 - accuracy: 0.9385\n",
      "Epoch 8/10\n",
      "60000/60000 [==============================] - 2s 27us/sample - loss: 0.2025 - accuracy: 0.9430s - loss: 0.2014 - accuracy: 0.\n",
      "Epoch 9/10\n",
      "60000/60000 [==============================] - 1s 25us/sample - loss: 0.1895 - accuracy: 0.9463\n",
      "Epoch 10/10\n",
      "60000/60000 [==============================] - 2s 27us/sample - loss: 0.1787 - accuracy: 0.9492s - loss:\n",
      "Try 3/10: Best_val_acc: [0.1717319522758325, 0.95098335], lr: 0.01405192096339859, Lambda: 1.7675864887407754e-07\n",
      "\n",
      "Train on 60000 samples\n",
      "Epoch 1/10\n",
      "60000/60000 [==============================] - 2s 32us/sample - loss: 1.1155 - accuracy: 0.7105\n",
      "Epoch 2/10\n",
      "60000/60000 [==============================] - 2s 27us/sample - loss: 0.2382 - accuracy: 0.9300\n",
      "Epoch 3/10\n",
      "60000/60000 [==============================] - 1s 25us/sample - loss: 0.1668 - accuracy: 0.9518s -\n",
      "Epoch 4/10\n",
      "60000/60000 [==============================] - 1s 22us/sample - loss: 0.1386 - accuracy: 0.9596\n",
      "Epoch 5/10\n",
      "60000/60000 [==============================] - 2s 25us/sample - loss: 0.1176 - accuracy: 0.9648\n",
      "Epoch 6/10\n",
      "60000/60000 [==============================] - 1s 23us/sample - loss: 0.0995 - accuracy: 0.9699\n",
      "Epoch 7/10\n",
      "60000/60000 [==============================] - 1s 22us/sample - loss: 0.0916 - accuracy: 0.9730\n",
      "Epoch 8/10\n",
      "60000/60000 [==============================] - 2s 26us/sample - loss: 0.0746 - accuracy: 0.9780\n",
      "Epoch 9/10\n",
      "60000/60000 [==============================] - 2s 28us/sample - loss: 0.0680 - accuracy: 0.9801\n",
      "Epoch 10/10\n",
      "60000/60000 [==============================] - 2s 26us/sample - loss: 0.0608 - accuracy: 0.9827\n",
      "Try 4/10: Best_val_acc: [0.0488546145538489, 0.9853167], lr: 0.5270136139063335, Lambda: 5.9558316668139115e-06\n",
      "\n",
      "Train on 60000 samples\n",
      "Epoch 1/10\n",
      "60000/60000 [==============================] - 2s 29us/sample - loss: 0.8733 - accuracy: 0.7563\n",
      "Epoch 2/10\n",
      "60000/60000 [==============================] - 1s 24us/sample - loss: 0.3274 - accuracy: 0.9127\n",
      "Epoch 3/10\n",
      "60000/60000 [==============================] - 1s 22us/sample - loss: 0.2725 - accuracy: 0.9288\n",
      "Epoch 4/10\n",
      "60000/60000 [==============================] - 1s 25us/sample - loss: 0.2397 - accuracy: 0.9384s - loss: 0.2\n",
      "Epoch 5/10\n",
      "60000/60000 [==============================] - 1s 22us/sample - loss: 0.2150 - accuracy: 0.9455\n",
      "Epoch 6/10\n",
      "60000/60000 [==============================] - 1s 24us/sample - loss: 0.1953 - accuracy: 0.9512\n",
      "Epoch 7/10\n",
      "60000/60000 [==============================] - 2s 25us/sample - loss: 0.1768 - accuracy: 0.9570\n",
      "Epoch 8/10\n",
      "60000/60000 [==============================] - 1s 23us/sample - loss: 0.1634 - accuracy: 0.9611\n",
      "Epoch 9/10\n",
      "60000/60000 [==============================] - 1s 24us/sample - loss: 0.1521 - accuracy: 0.9639\n",
      "Epoch 10/10\n",
      "60000/60000 [==============================] - 1s 22us/sample - loss: 0.1420 - accuracy: 0.9671\n",
      "Try 5/10: Best_val_acc: [0.13832063737908998, 0.96886665], lr: 0.03496220488927648, Lambda: 0.0008696807067730979\n",
      "\n",
      "Train on 60000 samples\n",
      "Epoch 1/10\n",
      "60000/60000 [==============================] - 2s 31us/sample - loss: inf - accuracy: 0.1006      \n",
      "Epoch 2/10\n",
      "60000/60000 [==============================] - 1s 22us/sample - loss: inf - accuracy: 0.1006\n",
      "Epoch 3/10\n",
      "60000/60000 [==============================] - 2s 27us/sample - loss: inf - accuracy: 0.09920s - loss: inf - accuracy: 0 - ETA: 0s - loss: inf - accuracy: \n",
      "Epoch 4/10\n",
      "60000/60000 [==============================] - 1s 25us/sample - loss: inf - accuracy: 0.10010s - loss: inf - accuracy: 0\n",
      "Epoch 5/10\n",
      "60000/60000 [==============================] - 2s 26us/sample - loss: inf - accuracy: 0.1016\n",
      "Epoch 6/10\n",
      "60000/60000 [==============================] - 1s 24us/sample - loss: inf - accuracy: 0.1014\n",
      "Epoch 7/10\n",
      "60000/60000 [==============================] - 1s 22us/sample - loss: inf - accuracy: 0.1008\n",
      "Epoch 8/10\n",
      "60000/60000 [==============================] - 1s 20us/sample - loss: inf - accuracy: 0.09970s - loss: inf - accuracy: 0.100\n",
      "Epoch 9/10\n",
      "60000/60000 [==============================] - 1s 24us/sample - loss: 103081791600785198436114717736960.0000 - accuracy: 0.1022\n",
      "Epoch 10/10\n",
      "60000/60000 [==============================] - 1s 25us/sample - loss: 176692555166285960233007185920.0000 - accuracy: 0.1003\n",
      "Try 6/10: Best_val_acc: [2.803039209037032e+26, 0.09736667], lr: 39.756490144249604, Lambda: 0.0008304857924293284\n",
      "\n",
      "Train on 60000 samples\n",
      "Epoch 1/10\n",
      "60000/60000 [==============================] - 2s 33us/sample - loss: nan - accuracy: 0.0988          - ETA: 2s - loss: n\n",
      "Epoch 2/10\n",
      "60000/60000 [==============================] - 1s 23us/sample - loss: nan - accuracy: 0.09870s - loss: nan - \n",
      "Epoch 3/10\n",
      "60000/60000 [==============================] - 1s 23us/sample - loss: nan - accuracy: 0.0987\n",
      "Epoch 4/10\n",
      "60000/60000 [==============================] - 2s 27us/sample - loss: nan - accuracy: 0.0987\n",
      "Epoch 5/10\n",
      "60000/60000 [==============================] - 2s 27us/sample - loss: nan - accuracy: 0.09870s - loss: nan - accuracy: 0.\n",
      "Epoch 6/10\n",
      "60000/60000 [==============================] - 2s 26us/sample - loss: nan - accuracy: 0.09871s - loss\n",
      "Epoch 7/10\n",
      "60000/60000 [==============================] - 2s 26us/sample - loss: nan - accuracy: 0.0987\n",
      "Epoch 8/10\n",
      "60000/60000 [==============================] - 2s 26us/sample - loss: nan - accuracy: 0.0987\n",
      "Epoch 9/10\n",
      "60000/60000 [==============================] - 2s 27us/sample - loss: nan - accuracy: 0.0987\n",
      "Epoch 10/10\n",
      "60000/60000 [==============================] - 2s 27us/sample - loss: nan - accuracy: 0.0987\n",
      "Try 7/10: Best_val_acc: [nan, 0.09871667], lr: 315.07745484147966, Lambda: 1.3009847478987985e-07\n",
      "\n",
      "Train on 60000 samples\n",
      "Epoch 1/10\n",
      "60000/60000 [==============================] - 2s 32us/sample - loss: 2.3315 - accuracy: 0.0940\n",
      "Epoch 2/10\n",
      "60000/60000 [==============================] - 2s 28us/sample - loss: 2.3306 - accuracy: 0.0944\n",
      "Epoch 3/10\n",
      "60000/60000 [==============================] - 2s 26us/sample - loss: 2.3297 - accuracy: 0.0949\n",
      "Epoch 4/10\n",
      "60000/60000 [==============================] - 2s 27us/sample - loss: 2.3288 - accuracy: 0.0953\n",
      "Epoch 5/10\n",
      "60000/60000 [==============================] - 2s 28us/sample - loss: 2.3279 - accuracy: 0.0958\n",
      "Epoch 6/10\n",
      "60000/60000 [==============================] - 2s 27us/sample - loss: 2.3270 - accuracy: 0.0963s - loss:\n",
      "Epoch 7/10\n",
      "60000/60000 [==============================] - 2s 27us/sample - loss: 2.3261 - accuracy: 0.0967\n",
      "Epoch 8/10\n",
      "60000/60000 [==============================] - 2s 25us/sample - loss: 2.3252 - accuracy: 0.0971s - loss: 2\n",
      "Epoch 9/10\n",
      "60000/60000 [==============================] - 2s 26us/sample - loss: 2.3243 - accuracy: 0.0976\n",
      "Epoch 10/10\n",
      "60000/60000 [==============================] - 1s 24us/sample - loss: 2.3234 - accuracy: 0.0981\n",
      "Try 8/10: Best_val_acc: [2.3229201353708904, 0.09831667], lr: 1.8392230821471895e-06, Lambda: 3.504531322508995e-06\n",
      "\n",
      "Train on 60000 samples\n",
      "Epoch 1/10\n",
      "60000/60000 [==============================] - 2s 32us/sample - loss: 1.5821 - accuracy: 0.5947\n",
      "Epoch 2/10\n",
      "60000/60000 [==============================] - 1s 25us/sample - loss: 0.5951 - accuracy: 0.8544\n",
      "Epoch 3/10\n",
      "60000/60000 [==============================] - 2s 25us/sample - loss: 0.4242 - accuracy: 0.8855\n",
      "Epoch 4/10\n",
      "60000/60000 [==============================] - 2s 26us/sample - loss: 0.3682 - accuracy: 0.8975\n",
      "Epoch 5/10\n",
      "60000/60000 [==============================] - 2s 25us/sample - loss: 0.3375 - accuracy: 0.9052\n",
      "Epoch 6/10\n",
      "60000/60000 [==============================] - 1s 24us/sample - loss: 0.3167 - accuracy: 0.9102\n",
      "Epoch 7/10\n",
      "60000/60000 [==============================] - 2s 25us/sample - loss: 0.3001 - accuracy: 0.9145\n",
      "Epoch 8/10\n",
      "60000/60000 [==============================] - 2s 26us/sample - loss: 0.2866 - accuracy: 0.9185\n",
      "Epoch 9/10\n",
      "60000/60000 [==============================] - 1s 24us/sample - loss: 0.2745 - accuracy: 0.9218s - los\n",
      "Epoch 10/10\n",
      "60000/60000 [==============================] - 2s 26us/sample - loss: 0.2636 - accuracy: 0.9247\n",
      "Try 9/10: Best_val_acc: [0.25718615483045576, 0.92656666], lr: 0.006024167635937944, Lambda: 1.4758343218466245e-06\n",
      "\n"
     ]
    }
   ],
   "source": [
    "import math\n",
    "for k in range(1,10):\n",
    "    lr = math.pow(10, np.random.uniform(-7.0, 3.0))\n",
    "    Lambda = math.pow(10, np.random.uniform(-7,-2))\n",
    "    best_acc = train_and_test_loop1(10, lr, Lambda, False)\n",
    "    print(\"Try {0}/{1}: Best_val_acc: {2}, lr: {3}, Lambda: {4}\\n\".format(k, 10, best_acc, lr, Lambda))"
   ]
  },
  {
   "cell_type": "code",
   "execution_count": 50,
   "metadata": {},
   "outputs": [
    {
     "name": "stdout",
     "output_type": "stream",
     "text": [
      "Train on 60000 samples\n",
      "Epoch 1/10\n",
      "60000/60000 [==============================] - 2s 33us/sample - loss: 2.0627 - accuracy: 0.4336\n",
      "Epoch 2/10\n",
      "60000/60000 [==============================] - 2s 25us/sample - loss: 1.2741 - accuracy: 0.7912\n",
      "Epoch 3/10\n",
      "60000/60000 [==============================] - 1s 24us/sample - loss: 0.8001 - accuracy: 0.8370\n",
      "Epoch 4/10\n",
      "60000/60000 [==============================] - 1s 24us/sample - loss: 0.6279 - accuracy: 0.8603\n",
      "Epoch 5/10\n",
      "60000/60000 [==============================] - 1s 23us/sample - loss: 0.5495 - accuracy: 0.8745\n",
      "Epoch 6/10\n",
      "60000/60000 [==============================] - 2s 26us/sample - loss: 0.5042 - accuracy: 0.8836\n",
      "Epoch 7/10\n",
      "60000/60000 [==============================] - 1s 23us/sample - loss: 0.4742 - accuracy: 0.8894\n",
      "Epoch 8/10\n",
      "60000/60000 [==============================] - 2s 26us/sample - loss: 0.4525 - accuracy: 0.8940s - loss: 0.4564 - ac\n",
      "Epoch 9/10\n",
      "60000/60000 [==============================] - 1s 23us/sample - loss: 0.4356 - accuracy: 0.8979\n",
      "Epoch 10/10\n",
      "60000/60000 [==============================] - 2s 25us/sample - loss: 0.4220 - accuracy: 0.9005\n",
      "Try 1/10: Best_val_acc: [0.4153855776309967, 0.90258336], lr: 0.002428107932100755, Lambda: 0.0025675897330909407\n",
      "\n",
      "Train on 60000 samples\n",
      "Epoch 1/10\n",
      "60000/60000 [==============================] - 2s 34us/sample - loss: 0.7664 - accuracy: 0.7829\n",
      "Epoch 2/10\n",
      "60000/60000 [==============================] - 2s 26us/sample - loss: 0.2877 - accuracy: 0.9194\n",
      "Epoch 3/10\n",
      "60000/60000 [==============================] - 2s 27us/sample - loss: 0.2329 - accuracy: 0.9367\n",
      "Epoch 4/10\n",
      "60000/60000 [==============================] - 2s 26us/sample - loss: 0.1945 - accuracy: 0.9471\n",
      "Epoch 5/10\n",
      "60000/60000 [==============================] - 1s 25us/sample - loss: 0.1676 - accuracy: 0.9550\n",
      "Epoch 6/10\n",
      "60000/60000 [==============================] - 2s 26us/sample - loss: 0.1477 - accuracy: 0.9611\n",
      "Epoch 7/10\n",
      "60000/60000 [==============================] - 2s 26us/sample - loss: 0.1339 - accuracy: 0.9659s - loss: 0.1349 - accuracy: \n",
      "Epoch 8/10\n",
      "60000/60000 [==============================] - ETA: 0s - loss: 0.1205 - accuracy: 0.9689 ETA: 0s - loss: 0.1200 - accuracy:  - 1s 24us/sample - loss: 0.1204 - accuracy: 0.9689\n",
      "Epoch 9/10\n",
      "60000/60000 [==============================] - 1s 24us/sample - loss: 0.1107 - accuracy: 0.9722\n",
      "Epoch 10/10\n",
      "60000/60000 [==============================] - 1s 23us/sample - loss: 0.1030 - accuracy: 0.9746\n",
      "Try 2/10: Best_val_acc: [0.09581617034723361, 0.97686666], lr: 0.04412694826470322, Lambda: 0.0003059382184285449\n",
      "\n",
      "Train on 60000 samples\n",
      "Epoch 1/10\n",
      "60000/60000 [==============================] - 2s 34us/sample - loss: 2.3047 - accuracy: 0.0906\n",
      "Epoch 2/10\n",
      "60000/60000 [==============================] - 1s 24us/sample - loss: 2.2287 - accuracy: 0.1880\n",
      "Epoch 3/10\n",
      "60000/60000 [==============================] - 1s 25us/sample - loss: 2.1588 - accuracy: 0.3214\n",
      "Epoch 4/10\n",
      "60000/60000 [==============================] - 2s 25us/sample - loss: 2.0921 - accuracy: 0.4400\n",
      "Epoch 5/10\n",
      "60000/60000 [==============================] - 2s 26us/sample - loss: 2.0263 - accuracy: 0.5223\n",
      "Epoch 6/10\n",
      "60000/60000 [==============================] - 2s 28us/sample - loss: 1.9599 - accuracy: 0.5756\n",
      "Epoch 7/10\n",
      "60000/60000 [==============================] - 2s 27us/sample - loss: 1.8924 - accuracy: 0.6126\n",
      "Epoch 8/10\n",
      "60000/60000 [==============================] - 2s 26us/sample - loss: 1.8234 - accuracy: 0.6403\n",
      "Epoch 9/10\n",
      "60000/60000 [==============================] - 2s 27us/sample - loss: 1.7533 - accuracy: 0.6625\n",
      "Epoch 10/10\n",
      "60000/60000 [==============================] - 2s 26us/sample - loss: 1.6824 - accuracy: 0.6809\n",
      "Try 3/10: Best_val_acc: [1.6461761415481568, 0.68971664], lr: 0.00019463241754879307, Lambda: 0.00041204278016062013\n",
      "\n",
      "Train on 60000 samples\n",
      "Epoch 1/10\n",
      "60000/60000 [==============================] - 2s 33us/sample - loss: 0.7331 - accuracy: 0.7943\n",
      "Epoch 2/10\n",
      "60000/60000 [==============================] - 2s 26us/sample - loss: 0.2752 - accuracy: 0.9247\n",
      "Epoch 3/10\n",
      "60000/60000 [==============================] - 2s 27us/sample - loss: 0.2179 - accuracy: 0.9423s - loss: 0.2308 - accu - ETA: 0s - l\n",
      "Epoch 4/10\n",
      "60000/60000 [==============================] - 1s 25us/sample - loss: 0.1841 - accuracy: 0.9515\n",
      "Epoch 5/10\n",
      "60000/60000 [==============================] - 2s 25us/sample - loss: 0.1610 - accuracy: 0.9593\n",
      "Epoch 6/10\n",
      "60000/60000 [==============================] - 2s 26us/sample - loss: 0.1401 - accuracy: 0.9656s - loss: 0.1425 - accu - ETA: 0s - loss: 0.1411 - accuracy: \n",
      "Epoch 7/10\n",
      "60000/60000 [==============================] - 1s 24us/sample - loss: 0.1266 - accuracy: 0.9694\n",
      "Epoch 8/10\n",
      "60000/60000 [==============================] - 1s 25us/sample - loss: 0.1165 - accuracy: 0.9726\n",
      "Epoch 9/10\n",
      "60000/60000 [==============================] - 1s 25us/sample - loss: 0.1064 - accuracy: 0.9758s - l\n",
      "Epoch 10/10\n",
      "60000/60000 [==============================] - 2s 26us/sample - loss: 0.0992 - accuracy: 0.9779\n",
      "Try 4/10: Best_val_acc: [0.09048309880495072, 0.98073334], lr: 0.0550319817518669, Lambda: 0.0005624077738737419\n",
      "\n"
     ]
    }
   ],
   "source": [
    "import math\n",
    "for k in range(1,5):\n",
    "    lr = math.pow(10, np.random.uniform(-4.0, -1.0))\n",
    "    Lambda = math.pow(10, np.random.uniform(-4,-2))\n",
    "    best_acc = train_and_test_loop1(10, lr, Lambda, False)\n",
    "    print(\"Try {0}/{1}: Best_val_acc: {2}, lr: {3}, Lambda: {4}\\n\".format(k, 10, best_acc, lr, Lambda))"
   ]
  },
  {
   "cell_type": "code",
   "execution_count": 51,
   "metadata": {},
   "outputs": [
    {
     "name": "stdout",
     "output_type": "stream",
     "text": [
      "Train on 60000 samples\n",
      "Epoch 1/10\n",
      "60000/60000 [==============================] - 1s 15us/sample - loss: 1.0209 - accuracy: 0.7259\n",
      "Epoch 2/10\n",
      "60000/60000 [==============================] - 1s 10us/sample - loss: 0.3508 - accuracy: 0.8999\n",
      "Epoch 3/10\n",
      "60000/60000 [==============================] - 1s 10us/sample - loss: 0.2905 - accuracy: 0.9179\n",
      "Epoch 4/10\n",
      "60000/60000 [==============================] - 1s 11us/sample - loss: 0.2556 - accuracy: 0.9277\n",
      "Epoch 5/10\n",
      "60000/60000 [==============================] - 1s 11us/sample - loss: 0.2309 - accuracy: 0.9349\n",
      "Epoch 6/10\n",
      "60000/60000 [==============================] - 1s 10us/sample - loss: 0.2090 - accuracy: 0.9410\n",
      "Epoch 7/10\n",
      "60000/60000 [==============================] - 1s 10us/sample - loss: 0.1934 - accuracy: 0.9453\n",
      "Epoch 8/10\n",
      "60000/60000 [==============================] - 1s 10us/sample - loss: 0.1787 - accuracy: 0.9498\n",
      "Epoch 9/10\n",
      "60000/60000 [==============================] - 1s 10us/sample - loss: 0.1659 - accuracy: 0.9539\n",
      "Epoch 10/10\n",
      "60000/60000 [==============================] - 1s 10us/sample - loss: 0.1559 - accuracy: 0.9573\n"
     ]
    },
    {
     "data": {
      "text/plain": [
       "[0.14743145335912705, 0.95968336]"
      ]
     },
     "execution_count": 51,
     "metadata": {},
     "output_type": "execute_result"
    }
   ],
   "source": [
    "lr = 2e-2\n",
    "Lambda = 1e-4\n",
    "train_and_test_loop1(10, lr, Lambda)"
   ]
  },
  {
   "cell_type": "markdown",
   "metadata": {},
   "source": [
    "### Convolution Networks"
   ]
  },
  {
   "cell_type": "code",
   "execution_count": 61,
   "metadata": {},
   "outputs": [],
   "source": [
    "(X_train, y_train), (X_test, y_test) = mnist.load_data()"
   ]
  },
  {
   "cell_type": "code",
   "execution_count": 62,
   "metadata": {},
   "outputs": [
    {
     "name": "stdout",
     "output_type": "stream",
     "text": [
      "(60000, 28, 28)\n",
      "(60000,)\n",
      "(10000, 28, 28)\n",
      "(10000,)\n"
     ]
    }
   ],
   "source": [
    "print(X_train.shape)\n",
    "print(y_train.shape)\n",
    "print(X_test.shape)\n",
    "print(y_test.shape)"
   ]
  },
  {
   "cell_type": "code",
   "execution_count": 63,
   "metadata": {},
   "outputs": [],
   "source": [
    "X_train = X_train.reshape(X_train.shape[0], 28, 28, 1)\n",
    "X_test = X_test.reshape(X_test.shape[0], 28, 28, 1)"
   ]
  },
  {
   "cell_type": "code",
   "execution_count": 64,
   "metadata": {},
   "outputs": [],
   "source": [
    "X_train = X_train.astype('float32')\n",
    "X_test = X_test.astype('float32')\n",
    "\n",
    "X_train /= 255\n",
    "X_test /= 255"
   ]
  },
  {
   "cell_type": "code",
   "execution_count": 65,
   "metadata": {},
   "outputs": [],
   "source": [
    "from tensorflow.keras.utils import to_categorical\n",
    "\n",
    "y_train = to_categorical(y_train, num_classes=10)\n",
    "y_test = to_categorical(y_test, num_classes=10)"
   ]
  },
  {
   "cell_type": "code",
   "execution_count": 66,
   "metadata": {},
   "outputs": [],
   "source": [
    "from tensorflow.keras.layers import Conv2D\n",
    "\n",
    "model = Sequential()\n",
    "model.add(Conv2D(filters=32, kernel_size=3, activation=\"relu\", input_shape=(28, 28, 1)))\n",
    "model.add(Conv2D(filters=32, kernel_size=3, activation=\"relu\"))\n",
    "model.add(Flatten())\n",
    "model.add(Dense(128, activation=\"relu\"))\n",
    "model.add(Dense(10, activation=\"softmax\"))"
   ]
  },
  {
   "cell_type": "code",
   "execution_count": 67,
   "metadata": {},
   "outputs": [
    {
     "name": "stdout",
     "output_type": "stream",
     "text": [
      "Train on 42000 samples, validate on 18000 samples\n",
      "Epoch 1/10\n",
      "42000/42000 [==============================] - 38s 914us/sample - loss: 0.1329 - accuracy: 0.9603 - val_loss: 0.0656 - val_accuracy: 0.9801\n",
      "Epoch 2/10\n",
      "42000/42000 [==============================] - 76s 2ms/sample - loss: 0.0407 - accuracy: 0.9867 - val_loss: 0.0618 - val_accuracy: 0.9830\n",
      "Epoch 3/10\n",
      "42000/42000 [==============================] - 79s 2ms/sample - loss: 0.0237 - accuracy: 0.9925 - val_loss: 0.0530 - val_accuracy: 0.9858\n",
      "Epoch 4/10\n",
      "42000/42000 [==============================] - 80s 2ms/sample - loss: 0.0152 - accuracy: 0.9948 - val_loss: 0.0641 - val_accuracy: 0.9849\n",
      "Epoch 5/10\n",
      "42000/42000 [==============================] - 85s 2ms/sample - loss: 0.0112 - accuracy: 0.9961 - val_loss: 0.0697 - val_accuracy: 0.9831\n",
      "Epoch 6/10\n",
      "42000/42000 [==============================] - 74s 2ms/sample - loss: 0.0078 - accuracy: 0.9973 - val_loss: 0.0768 - val_accuracy: 0.9832\n",
      "Epoch 7/10\n",
      "42000/42000 [==============================] - 74s 2ms/sample - loss: 0.0073 - accuracy: 0.9976 - val_loss: 0.0945 - val_accuracy: 0.9831\n",
      "Epoch 8/10\n",
      "42000/42000 [==============================] - 83s 2ms/sample - loss: 0.0063 - accuracy: 0.9980 - val_loss: 0.0730 - val_accuracy: 0.9842\n",
      "Epoch 9/10\n",
      "42000/42000 [==============================] - 89s 2ms/sample - loss: 0.0063 - accuracy: 0.9978 - val_loss: 0.0749 - val_accuracy: 0.9855\n",
      "Epoch 10/10\n",
      "42000/42000 [==============================] - 78s 2ms/sample - loss: 0.0040 - accuracy: 0.9987 - val_loss: 0.0808 - val_accuracy: 0.9863\n"
     ]
    },
    {
     "data": {
      "text/plain": [
       "<tensorflow.python.keras.callbacks.History at 0x1abba5aa048>"
      ]
     },
     "execution_count": 67,
     "metadata": {},
     "output_type": "execute_result"
    }
   ],
   "source": [
    "model.compile(loss=\"categorical_crossentropy\", metrics=[\"accuracy\"], optimizer=\"adam\")\n",
    "\n",
    "model.fit( x=X_train, y=y_train, batch_size=32, epochs=10, validation_split = 0.3)"
   ]
  },
  {
   "cell_type": "code",
   "execution_count": 68,
   "metadata": {},
   "outputs": [
    {
     "name": "stdout",
     "output_type": "stream",
     "text": [
      "10000/10000 [==============================] - 2s 225us/sample - loss: 0.0612 - accuracy: 0.9864\n"
     ]
    },
    {
     "data": {
      "text/plain": [
       "[0.06122027632234826, 0.9864]"
      ]
     },
     "execution_count": 68,
     "metadata": {},
     "output_type": "execute_result"
    }
   ],
   "source": [
    "model.evaluate(X_test, y_test)"
   ]
  },
  {
   "cell_type": "markdown",
   "metadata": {},
   "source": [
    "### Vanilla CNN + Pooling + Dropout"
   ]
  },
  {
   "cell_type": "code",
   "execution_count": 69,
   "metadata": {},
   "outputs": [],
   "source": [
    "from tensorflow.keras.models import Sequential\n",
    "from tensorflow.keras.layers import Conv2D, Dropout, MaxPooling2D\n",
    "\n",
    "model = Sequential()\n",
    "model.add(Conv2D(filters=32, kernel_size=3, activation=\"relu\", input_shape=(28, 28, 1)))\n",
    "model.add(Conv2D(filters=32, kernel_size=3, activation=\"relu\"))\n",
    "model.add(MaxPooling2D(pool_size=(2, 2)))\n",
    "model.add(Dropout(rate=0.2))\n",
    "model.add(Flatten())\n",
    "model.add(Dense(128, activation=\"relu\"))\n",
    "model.add(Dense(10, activation=\"softmax\"))"
   ]
  },
  {
   "cell_type": "code",
   "execution_count": 70,
   "metadata": {},
   "outputs": [
    {
     "name": "stdout",
     "output_type": "stream",
     "text": [
      "Train on 60000 samples, validate on 10000 samples\n",
      "Epoch 1/2\n",
      "60000/60000 [==============================] - 74s 1ms/sample - loss: 0.1234 - accuracy: 0.9621 - val_loss: 0.0524 - val_accuracy: 0.9820\n",
      "Epoch 2/2\n",
      "60000/60000 [==============================] - 89s 1ms/sample - loss: 0.0458 - accuracy: 0.9855 - val_loss: 0.0448 - val_accuracy: 0.9865\n"
     ]
    },
    {
     "data": {
      "text/plain": [
       "<tensorflow.python.keras.callbacks.History at 0x1abb538a278>"
      ]
     },
     "execution_count": 70,
     "metadata": {},
     "output_type": "execute_result"
    }
   ],
   "source": [
    "model.compile(loss=\"categorical_crossentropy\", metrics=[\"accuracy\"], optimizer=\"adam\")\n",
    "\n",
    "callback = tensorflow.keras.callbacks.EarlyStopping(monitor='val_accuracy', patience=2, min_delta=0.01)\n",
    "\n",
    "model.fit(x=X_train, y=y_train, batch_size=32, epochs=2, validation_data=(X_test, y_test), callbacks=[callback])"
   ]
  },
  {
   "cell_type": "code",
   "execution_count": 71,
   "metadata": {},
   "outputs": [
    {
     "name": "stdout",
     "output_type": "stream",
     "text": [
      "10000/10000 [==============================] - 2s 195us/sample - loss: 0.0448 - accuracy: 0.9865\n"
     ]
    },
    {
     "data": {
      "text/plain": [
       "[0.0447622390615521, 0.9865]"
      ]
     },
     "execution_count": 71,
     "metadata": {},
     "output_type": "execute_result"
    }
   ],
   "source": [
    "model.evaluate(X_test, y_test)"
   ]
  },
  {
   "cell_type": "code",
   "execution_count": null,
   "metadata": {},
   "outputs": [],
   "source": [
    "model.save_weights('my_model.h5')"
   ]
  },
  {
   "cell_type": "code",
   "execution_count": null,
   "metadata": {},
   "outputs": [],
   "source": [
    "model1 = model.load_weights('my_model.h5')"
   ]
  }
 ],
 "metadata": {
  "kernelspec": {
   "display_name": "Python 3",
   "language": "python",
   "name": "python3"
  },
  "language_info": {
   "codemirror_mode": {
    "name": "ipython",
    "version": 3
   },
   "file_extension": ".py",
   "mimetype": "text/x-python",
   "name": "python",
   "nbconvert_exporter": "python",
   "pygments_lexer": "ipython3",
   "version": "3.8.3"
  }
 },
 "nbformat": 4,
 "nbformat_minor": 5
}
